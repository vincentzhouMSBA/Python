{
 "cells": [
  {
   "cell_type": "code",
   "execution_count": 1,
   "metadata": {},
   "outputs": [
    {
     "name": "stdout",
     "output_type": "stream",
     "text": [
      "1500\n"
     ]
    }
   ],
   "source": [
    "import numpy as np\n",
    "import pandas as pd\n",
    "import csv\n",
    "\n",
    "\n",
    "all_lines = [l.strip(\"\\n\").split(\" \") for l in open(\"53_midterm_Knapsack.csv\").readlines()]\n",
    "print(len(all_lines))\n",
    "for i in range(0,1500,3):\n",
    "        weights = all_lines[i]\n",
    "        values = all_lines[i+1]\n",
    "        a = ['0']*50\n",
    "        all_lines[i+2] = [\",\".join(a)]     \n",
    "new_lines = []\n",
    "for l in all_lines:\n",
    "    new_sublist = []\n",
    "    for t in l:\n",
    "        for sub_str in t.split(\",\"):\n",
    "            new_sublist.append(float(sub_str))\n",
    "    new_lines.append(new_sublist)\n",
    "#print(new_lines)\n",
    "\n",
    "\n",
    "def bag(num,capacity,weights,values):\n",
    "    bag_matirx = [[0 for j in range(capacity+1)] for i in range(num + 1)]\n",
    "    for i in range(1, num + 1):\n",
    "        for j in range(1, capacity + 1):\n",
    "            bag_matirx[i][j] = bag_matirx[i-1][j]\n",
    "            if j >= weights[i-1] and bag_matirx[i][j] < bag_matirx[i-1][int(j-weights[i-1])] + values[i-1]:\n",
    "                bag_matirx[i][j] = bag_matirx[i-1][int(j-weights[i-1])] + values[i-1]\n",
    "    return bag_matirx \n",
    "\n",
    "\n",
    "def which_items(bag_matrix,weights,capacity):\n",
    "    j = capacity\n",
    "    item_list = []\n",
    "    for i in range(len(weights),0,-1):\n",
    "        if bag_matrix[i][j] > bag_matrix[i-1][j]:\n",
    "            item_list.append(i)\n",
    "            j = int(j-weights[i-1])\n",
    "    return item_list\n",
    "\n",
    "\n",
    "def max_value(bag_matrix,num,capacity):\n",
    "    return bag_matrix[num][capacity]\n",
    "\n",
    "#print(new_lines)"
   ]
  },
  {
   "cell_type": "code",
   "execution_count": 2,
   "metadata": {},
   "outputs": [],
   "source": [
    "def best_for_each(weights, values,solution):\n",
    "    total = {}\n",
    "    for i in range(100,150,1):\n",
    "        total[i] = 0 \n",
    "    \n",
    "    length = 1000\n",
    "    for capacity in range(100,150,1):\n",
    "        result_Dict = {}\n",
    "\n",
    "        solution = [float(0)]*50\n",
    "        sub_bag = bag(num,capacity,weights,values)\n",
    "        sub_item_num = which_items(sub_bag,weights,capacity)\n",
    "        for m in sub_item_num:\n",
    "            solution[int(m-1)] = 1   \n",
    "        sub_size = np.dot(weights,solution)\n",
    "        sub_reward = np.dot(values,solution)       \n",
    "        for p in range(length):        \n",
    "            knap_sizes = np.random.uniform(100,150)\n",
    "            if sub_size <= knap_sizes:\n",
    "                total[capacity] = total[capacity] + sub_reward\n",
    "        \n",
    "    ratio = {}\n",
    "    for capacity in range(100,150,1):\n",
    "        ratio[capacity] = total[capacity]/length\n",
    "#    print(ratio)\n",
    "\n",
    "    max_final = max(ratio,key = ratio.get)\n",
    "#    print(\"max_final\",max_final)\n",
    "    return max_final          \n",
    "\n",
    "        \n",
    "    "
   ]
  },
  {
   "cell_type": "code",
   "execution_count": 3,
   "metadata": {},
   "outputs": [
    {
     "name": "stdout",
     "output_type": "stream",
     "text": [
      "[100, 101, 100, 100, 105, 100, 102, 100, 100, 113, 100, 106, 100, 100, 100, 100, 106, 100, 101, 100, 100, 109, 106, 101, 100, 100, 102, 100, 100, 100, 100, 100, 100, 111, 103, 100, 100, 110, 106, 113, 100, 101, 101, 100, 100, 104, 108, 100, 100, 111, 106, 103, 100, 100, 100, 100, 100, 104, 100, 122, 121, 100, 100, 100, 100, 100, 100, 101, 100, 100, 103, 100, 104, 100, 100, 100, 105, 102, 100, 100, 101, 100, 101, 100, 100, 100, 100, 109, 100, 100, 100, 100, 100, 100, 100, 102, 100, 101, 100, 101, 100, 100, 102, 101, 110, 101, 101, 110, 111, 111, 100, 116, 101, 100, 100, 103, 123, 100, 101, 100, 101, 112, 100, 100, 105, 100, 100, 114, 101, 100, 100, 102, 100, 100, 105, 103, 100, 100, 100, 101, 100, 112, 100, 109, 112, 100, 100, 100, 100, 102, 100, 100, 100, 100, 111, 100, 116, 100, 102, 114, 100, 100, 104, 100, 100, 105, 100, 100, 108, 100, 100, 108, 103, 100, 100, 104, 108, 100, 101, 100, 100, 100, 104, 100, 100, 100, 108, 100, 103, 100, 100, 100, 108, 100, 100, 100, 100, 100, 100, 102, 100, 100, 100, 100, 105, 105, 102, 100, 100, 100, 100, 100, 102, 100, 110, 116, 103, 106, 101, 105, 100, 100, 100, 100, 111, 101, 100, 100, 100, 100, 117, 100, 100, 103, 100, 104, 100, 111, 114, 100, 100, 100, 102, 101, 100, 100, 100, 100, 108, 100, 100, 103, 102, 103, 104, 100, 110, 100, 100, 118, 100, 100, 100, 100, 100, 103, 101, 100, 100, 100, 106, 118, 100, 100, 102, 101, 111, 100, 100, 102, 100, 104, 106, 102, 103, 101, 100, 116, 100, 100, 101, 100, 100, 100, 102, 100, 100, 100, 100, 100, 100, 100, 102, 100, 119, 108, 104, 111, 100, 100, 100, 102, 100, 100, 100, 102, 100, 100, 101, 100, 100, 100, 100, 100, 100, 100, 100, 102, 100, 100, 105, 100, 100, 100, 100, 100, 110, 105, 100, 100, 100, 100, 103, 100, 102, 100, 100, 100, 100, 102, 103, 100, 100, 105, 100, 100, 100, 102, 101, 100, 105, 100, 103, 101, 102, 100, 105, 100, 100, 100, 105, 100, 100, 106, 100, 103, 100, 100, 100, 100, 100, 100, 100, 100, 100, 110, 100, 101, 100, 104, 100, 100, 101, 100, 100, 100, 100, 109, 122, 100, 107, 102, 100, 100, 100, 107, 100, 100, 115, 100, 101, 100, 110, 100, 100, 108, 100, 100, 100, 102, 109, 110, 108, 100, 100, 100, 100, 100, 103, 101, 100, 101, 104, 100, 104, 100, 100, 103, 100, 101, 100, 100, 102, 102, 100, 104, 100, 100, 100, 100, 100, 100, 100, 104, 100, 100, 100, 104, 100, 100, 100, 102, 100, 100, 100, 100, 103, 100, 100, 100, 100, 121, 100, 100, 100, 100, 100, 102, 101, 100, 100, 100, 102, 100, 100, 100, 100, 103, 100, 100, 100, 100, 101, 100, 100, 100, 100, 100, 100, 100]\n"
     ]
    }
   ],
   "source": [
    "total_value = 0\n",
    "num = 50\n",
    "c = []\n",
    "for i in range(0,1500,3):\n",
    "#    print(i/3)\n",
    "    sizes = new_lines[i]\n",
    "    rewards = new_lines[i+1]\n",
    "    solution = new_lines[i+2]\n",
    "\n",
    "    ci = best_for_each(sizes, rewards,solution)\n",
    "    c.append(ci)\n",
    "    final_bag = bag(num,ci,sizes,rewards)\n",
    "    item_num = which_items(final_bag,sizes,ci)\n",
    "#    print(item_num)\n",
    "    new_lines[i+2] = [0]*50\n",
    "#    print(new_lines[i+2])\n",
    "    for m in item_num:\n",
    "        new_lines[i+2][m-1] = 1\n",
    "#    print(new_lines[i+2])\n",
    "\n",
    "print(c)\n"
   ]
  },
  {
   "cell_type": "code",
   "execution_count": 5,
   "metadata": {},
   "outputs": [
    {
     "name": "stdout",
     "output_type": "stream",
     "text": [
      "{'53': 94031.03999999992}\n"
     ]
    }
   ],
   "source": [
    "filepath = \"53_midterm_Knapsack.csv\"        \n",
    "submitted_file_path = \"53_midterm_Knapsack.csv\"\n",
    "with open(filepath, 'w', newline='') as csvfile:\n",
    "    writer  = csv.writer(csvfile)\n",
    "    for row in new_lines:\n",
    "        writer.writerow(row)\n",
    "        \n",
    "\n",
    "def Evaluate_Sol(file_path):\n",
    "    student_id = file_path.split(\"_\")[0]\n",
    "    df_solution = pd.read_csv(file_path, header = None)\n",
    "    df_solution.reset_index(inplace = True, drop = True)\n",
    "    current_obj = 0 \n",
    "\n",
    "    for i in range(0,1500,3):\n",
    "        sizes = list(df_solution.loc[i, 0:49])\n",
    "        rewards = list(df_solution.loc[i+1, 0:49])\n",
    "        solution = [bool(i) for i in list(df_solution.loc[i+2, 0:49])]\n",
    "        C = knap_sizes[int(i/3)]\n",
    "        #print(sizes)\n",
    "        #print(solution)\n",
    "        total_size = np.dot(sizes,solution)\n",
    "        total_reward = np.dot(rewards,solution)\n",
    "        #print(total_size)\n",
    "        if total_size <= C:\n",
    "            current_obj+=total_reward\n",
    "    return {student_id: current_obj}\n",
    "\n",
    "f = open(\"Knap_Sizes.csv\", \"w\")\n",
    "\n",
    "knap_sizes = np.random.uniform(100,150,500)\n",
    "for size in knap_sizes:\n",
    "    f.write(\"%0.2f\\n\" %size)\n",
    "\n",
    "f.close()        \n",
    "result1 = Evaluate_Sol(submitted_file_path)\n",
    "\n",
    "print(result1)"
   ]
  },
  {
   "cell_type": "code",
   "execution_count": 22,
   "metadata": {},
   "outputs": [
    {
     "name": "stdout",
     "output_type": "stream",
     "text": [
      "[95107.74999999996, 93165.80999999997, 93731.45999999992, 92978.62999999995, 92760.36999999994, 94439.64999999995, 94164.24999999993, 95015.97999999995, 94057.11999999994, 94930.20999999995, 94450.40999999996, 93595.55999999994, 94136.82999999994, 93879.77999999993, 91620.45999999993, 93965.59999999995, 95175.66999999995, 91015.22999999995, 94669.68999999994, 94416.53999999994, 93835.67999999993, 92514.5799999999, 92556.03999999995, 92950.66999999994, 94454.45999999993, 94177.80999999995, 93756.06999999995, 93954.16999999994, 94476.72999999994, 94394.71999999994, 93785.10999999994, 94306.94999999995, 93127.58999999994, 94056.56999999993, 93768.79999999992, 93023.36999999994, 93825.92999999993, 95432.24999999996, 94735.99999999996, 93964.01999999997, 94067.84999999996, 94474.90999999995, 94318.99999999996, 93124.80999999992, 94243.09999999995, 93418.09999999993, 93946.25999999994, 93321.64999999994, 94576.03999999994, 94410.32999999993, 94580.53999999995, 92779.60999999993, 94120.55999999994, 93230.04999999993, 94289.84999999995, 93207.86999999994, 93625.52999999994, 92668.89999999992, 93647.04999999994, 94310.51999999996, 94927.05999999994, 93441.00999999994, 93883.13999999994, 93778.70999999993, 94679.53999999995, 92419.64999999994, 94682.05999999995, 95287.13999999996, 93302.45999999993, 94467.66999999994, 93871.99999999993, 93072.83999999994, 93985.67999999995, 93495.4899999999, 93763.91999999995, 94026.25999999994, 94035.77999999994, 94271.94999999994, 94281.37999999996, 94338.72999999992, 94545.06999999993, 95310.07999999994, 93774.92999999993, 93804.87999999996, 93976.85999999994, 94195.79999999994, 93911.05999999995, 94626.29999999996, 93448.53999999992, 94477.22999999995, 93128.34999999995, 93557.82999999993, 93456.15999999995, 93198.48999999995, 93390.55999999992, 93925.90999999993, 94006.11999999994, 93957.55999999994, 92352.48999999995, 94271.41999999993]\n",
      "Average 93880.65159999994\n"
     ]
    }
   ],
   "source": [
    "Monte_list = []\n",
    "for u in range(100):\n",
    "    f = open(\"Knap_Sizes.csv\", \"w\")\n",
    "\n",
    "    knap_sizes = np.random.uniform(100,150,500)\n",
    "    for size in knap_sizes:\n",
    "        f.write(\"%0.2f\\n\" %size)\n",
    "\n",
    "    f.close()        \n",
    "\n",
    "    final_results = Evaluate_Sol(submitted_file_path)\n",
    "    result = final_results['53']\n",
    "    Monte_list.append(result)\n",
    "\n",
    "print(Monte_list)\n",
    "print(\"Average\",sum(Monte_list)/len(Monte_list))"
   ]
  },
  {
   "cell_type": "code",
   "execution_count": null,
   "metadata": {},
   "outputs": [],
   "source": []
  }
 ],
 "metadata": {
  "kernelspec": {
   "display_name": "Python 3",
   "language": "python",
   "name": "python3"
  },
  "language_info": {
   "codemirror_mode": {
    "name": "ipython",
    "version": 3
   },
   "file_extension": ".py",
   "mimetype": "text/x-python",
   "name": "python",
   "nbconvert_exporter": "python",
   "pygments_lexer": "ipython3",
   "version": "3.7.3"
  }
 },
 "nbformat": 4,
 "nbformat_minor": 4
}
